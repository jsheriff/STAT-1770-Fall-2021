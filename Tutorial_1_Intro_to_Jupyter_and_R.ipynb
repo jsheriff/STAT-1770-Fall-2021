{
 "cells": [
  {
   "cell_type": "markdown",
   "metadata": {},
   "source": [
    "# Tutorial 1: Introduction to Jupyter and R"
   ]
  },
  {
   "cell_type": "markdown",
   "metadata": {
    "slideshow": {
     "slide_type": "slide"
    }
   },
   "source": [
    "## Objectives\n",
    "The objective of this tutorial is to introduce jupyter notebooks, especially R notebooks, which will be used throughout the course both to learn the statistical concepts discussed in the texbook and also to analyze real data and come to informed conclusions."
   ]
  },
  {
   "cell_type": "markdown",
   "metadata": {
    "slideshow": {
     "slide_type": "slide"
    }
   },
   "source": [
    "## Data Information:\n",
    "\n",
    "### Data Set:\n",
    "\n",
    "Today we will be using baptism data for children born in London for every year from 1629 to 1710. \n",
    "\n",
    " \n",
    "#### Name: #### \n",
    "* `arbuthnot` - baptism data for children born in London for every year from 1629 to 1710\n",
    "\n",
    "#### Variables: ####\n",
    "* `year` - brief description\n",
    "* `boys` - number of boys baptized in London during the year\n",
    "* `girls` - number of girls baptized in London during the year\n"
   ]
  },
  {
   "cell_type": "markdown",
   "metadata": {
    "slideshow": {
     "slide_type": "slide"
    }
   },
   "source": [
    "## Elements of an R notebook\n",
    "### Markdown Cells\n",
    "This is a markdown cell.\n",
    "\n",
    "Markdown is a markup language (like html). Its design allows it to be converted to many output formats. It can accommodate LaTex formulas, image files, hyperlinks, etc.\n",
    "\n",
    "This is where you would describe your work, or answer questions. \n",
    "\n",
    "#### To edit this cell double click on the cell, or hit  <Enter\\>.  \n",
    "#### To return the cell to its formatted appearance, hit <Shift\\> + <Enter\\>\n",
    "\n",
    "Some resources for using Markdown may be found here\n",
    "* [Markdown Guide](https://www.markdownguide.org/)\n",
    "* [Markdown Tutorial](https://www.markdowntutorial.com/)\n"
   ]
  },
  {
   "cell_type": "markdown",
   "metadata": {
    "slideshow": {
     "slide_type": "slide"
    }
   },
   "source": [
    "### Code Cells\n",
    "\n",
    "Below are three code cells.  \n",
    "\n",
    "Code cells allow us to us to execute R code to conduct our analysis. Interacting with R is all about typing commands and interpreting the output. These commands and their syntax have evolved over decades (literally) and now provide what many users feel is a fairly natural way to access data and organize, describe, and invoke statistical computations.  \n",
    "  \n",
    "Typically these cells will be used to perform various analyses of data, but the cells below are simply used to perform some basic arithmetic.  \n",
    "\n",
    "#### To edit a code cell double click on the cell, or hit  <Enter\\>.  \n",
    "#### To run the code, hit <Shift\\> + <Enter\\>\n"
   ]
  },
  {
   "cell_type": "code",
   "execution_count": null,
   "metadata": {
    "slideshow": {
     "slide_type": "subslide"
    }
   },
   "outputs": [],
   "source": [
    "4+5"
   ]
  },
  {
   "cell_type": "code",
   "execution_count": null,
   "metadata": {
    "slideshow": {
     "slide_type": "subslide"
    }
   },
   "outputs": [],
   "source": [
    "(2*9)/3"
   ]
  },
  {
   "cell_type": "code",
   "execution_count": null,
   "metadata": {
    "slideshow": {
     "slide_type": "subslide"
    }
   },
   "outputs": [],
   "source": [
    "3^4"
   ]
  },
  {
   "cell_type": "markdown",
   "metadata": {
    "slideshow": {
     "slide_type": "slide"
    }
   },
   "source": [
    "### Question 1: Use the code cell below to find the average of 17, 2, 13,  7."
   ]
  },
  {
   "cell_type": "code",
   "execution_count": 1,
   "metadata": {},
   "outputs": [
    {
     "data": {
      "text/html": [
       "9.75"
      ],
      "text/latex": [
       "9.75"
      ],
      "text/markdown": [
       "9.75"
      ],
      "text/plain": [
       "[1] 9.75"
      ]
     },
     "metadata": {},
     "output_type": "display_data"
    }
   ],
   "source": [
    "(17 + 2 + 13 + 7)/4"
   ]
  },
  {
   "cell_type": "markdown",
   "metadata": {
    "slideshow": {
     "slide_type": "slide"
    }
   },
   "source": [
    "Together, code cells and Markdown cells combine to form an R notebook that will allow you to conduct, and document, and distribute, the statistical analysis of any research question you encounter.  \n",
    "\n",
    "\n",
    "R notebooks are capable of producing publishable quality output. However, tutorials will emphasize developing familiarity and facility with notebooks and with R.  \n",
    "  \n",
    "----  "
   ]
  },
  {
   "cell_type": "markdown",
   "metadata": {
    "slideshow": {
     "slide_type": "slide"
    }
   },
   "source": [
    "## General procedure for labs/tutorials  \n",
    "\n",
    "We will be using R notebooks for most, if not all, of our labs. For each lab you will generally need to:  \n",
    "\n",
    "#### Step 1\n",
    "\n",
    "- Log in to Syzygy\n",
    "\n",
    "https://uleth.syzygy.ca/\n",
    "\n",
    "Use your uleth login credentials. It may take a couple of attempts to successfully login to syzygy.  \n",
    "\n",
    "There are tutorials about syzygy  here: \n",
    "http://intro.syzygy.ca/\n",
    "\n",
    "---  \n",
    "\n",
    "\n",
    "#### Step 2\n",
    "\n",
    "#### Get a copy of this week's notebook(s)\n",
    "\n",
    "You can download the notebook(s) from Moodle and upload it to syzygy.\n",
    "\n",
    "---  \n",
    "\n",
    "\n",
    "#### Step 3\n",
    "\n",
    "#### Get a copy of this week's data, if required\n",
    "\n",
    "There are many ways to import data. If there is a dataset that accompanies the notebook in Moodle, you can download the dataset from moodle and upload it to syzygy.\n",
    "\n",
    "---\n"
   ]
  },
  {
   "cell_type": "markdown",
   "metadata": {},
   "source": [
    "### Getting started: Loading and working with data  \n",
    "\n",
    "As mentioned above, there are many ways to import data to be analysed. If the data exists in a file accesible online, it may be accessed directly. Run the R command below."
   ]
  },
  {
   "cell_type": "code",
   "execution_count": 5,
   "metadata": {},
   "outputs": [],
   "source": [
    "source(\"http://www.openintro.org/stat/data/arbuthnot.R\")"
   ]
  },
  {
   "cell_type": "markdown",
   "metadata": {},
   "source": [
    "This command instructs R to access the OpenIntro website and retrieve some data, which is in a file called `arbuthnot.R`. The .R indicates a file format, like .csv, .txt etc. R is capable of importing data files of various formats (using the appropriate command). The `arbuthnot` dataset is already in a format native to R.  "
   ]
  },
  {
   "cell_type": "markdown",
   "metadata": {},
   "source": [
    "### The Data: Dr. Arbuthnot’s Baptism Records  \n",
    "The `arbuthnot` data set refers to Dr. John Arbuthnot, an 18th century physician, writer, and mathematician. He was interested in the ratio of newborn boys to newborn girls, so he gathered the baptism records for children born in London for every year from 1629 to 1710. We can look at the data by typing its name in a code cell."
   ]
  },
  {
   "cell_type": "code",
   "execution_count": 6,
   "metadata": {},
   "outputs": [
    {
     "data": {
      "text/html": [
       "<table>\n",
       "<caption>A data.frame: 82 × 3</caption>\n",
       "<thead>\n",
       "\t<tr><th scope=col>year</th><th scope=col>boys</th><th scope=col>girls</th></tr>\n",
       "\t<tr><th scope=col>&lt;int&gt;</th><th scope=col>&lt;int&gt;</th><th scope=col>&lt;int&gt;</th></tr>\n",
       "</thead>\n",
       "<tbody>\n",
       "\t<tr><td>1629</td><td>5218</td><td>4683</td></tr>\n",
       "\t<tr><td>1630</td><td>4858</td><td>4457</td></tr>\n",
       "\t<tr><td>1631</td><td>4422</td><td>4102</td></tr>\n",
       "\t<tr><td>1632</td><td>4994</td><td>4590</td></tr>\n",
       "\t<tr><td>1633</td><td>5158</td><td>4839</td></tr>\n",
       "\t<tr><td>1634</td><td>5035</td><td>4820</td></tr>\n",
       "\t<tr><td>1635</td><td>5106</td><td>4928</td></tr>\n",
       "\t<tr><td>1636</td><td>4917</td><td>4605</td></tr>\n",
       "\t<tr><td>1637</td><td>4703</td><td>4457</td></tr>\n",
       "\t<tr><td>1638</td><td>5359</td><td>4952</td></tr>\n",
       "\t<tr><td>1639</td><td>5366</td><td>4784</td></tr>\n",
       "\t<tr><td>1640</td><td>5518</td><td>5332</td></tr>\n",
       "\t<tr><td>1641</td><td>5470</td><td>5200</td></tr>\n",
       "\t<tr><td>1642</td><td>5460</td><td>4910</td></tr>\n",
       "\t<tr><td>1643</td><td>4793</td><td>4617</td></tr>\n",
       "\t<tr><td>1644</td><td>4107</td><td>3997</td></tr>\n",
       "\t<tr><td>1645</td><td>4047</td><td>3919</td></tr>\n",
       "\t<tr><td>1646</td><td>3768</td><td>3395</td></tr>\n",
       "\t<tr><td>1647</td><td>3796</td><td>3536</td></tr>\n",
       "\t<tr><td>1648</td><td>3363</td><td>3181</td></tr>\n",
       "\t<tr><td>1649</td><td>3079</td><td>2746</td></tr>\n",
       "\t<tr><td>1650</td><td>2890</td><td>2722</td></tr>\n",
       "\t<tr><td>1651</td><td>3231</td><td>2840</td></tr>\n",
       "\t<tr><td>1652</td><td>3220</td><td>2908</td></tr>\n",
       "\t<tr><td>1653</td><td>3196</td><td>2959</td></tr>\n",
       "\t<tr><td>1654</td><td>3441</td><td>3179</td></tr>\n",
       "\t<tr><td>1655</td><td>3655</td><td>3349</td></tr>\n",
       "\t<tr><td>1656</td><td>3668</td><td>3382</td></tr>\n",
       "\t<tr><td>1657</td><td>3396</td><td>3289</td></tr>\n",
       "\t<tr><td>1658</td><td>3157</td><td>3013</td></tr>\n",
       "\t<tr><td>⋮</td><td>⋮</td><td>⋮</td></tr>\n",
       "\t<tr><td>1681</td><td>6822</td><td>6533</td></tr>\n",
       "\t<tr><td>1682</td><td>6909</td><td>6744</td></tr>\n",
       "\t<tr><td>1683</td><td>7577</td><td>7158</td></tr>\n",
       "\t<tr><td>1684</td><td>7575</td><td>7127</td></tr>\n",
       "\t<tr><td>1685</td><td>7484</td><td>7246</td></tr>\n",
       "\t<tr><td>1686</td><td>7575</td><td>7119</td></tr>\n",
       "\t<tr><td>1687</td><td>7737</td><td>7214</td></tr>\n",
       "\t<tr><td>1688</td><td>7487</td><td>7101</td></tr>\n",
       "\t<tr><td>1689</td><td>7604</td><td>7167</td></tr>\n",
       "\t<tr><td>1690</td><td>7909</td><td>7302</td></tr>\n",
       "\t<tr><td>1691</td><td>7662</td><td>7392</td></tr>\n",
       "\t<tr><td>1692</td><td>7602</td><td>7316</td></tr>\n",
       "\t<tr><td>1693</td><td>7676</td><td>7483</td></tr>\n",
       "\t<tr><td>1694</td><td>6985</td><td>6647</td></tr>\n",
       "\t<tr><td>1695</td><td>7263</td><td>6713</td></tr>\n",
       "\t<tr><td>1696</td><td>7632</td><td>7229</td></tr>\n",
       "\t<tr><td>1697</td><td>8062</td><td>7767</td></tr>\n",
       "\t<tr><td>1698</td><td>8426</td><td>7626</td></tr>\n",
       "\t<tr><td>1699</td><td>7911</td><td>7452</td></tr>\n",
       "\t<tr><td>1700</td><td>7578</td><td>7061</td></tr>\n",
       "\t<tr><td>1701</td><td>8102</td><td>7514</td></tr>\n",
       "\t<tr><td>1702</td><td>8031</td><td>7656</td></tr>\n",
       "\t<tr><td>1703</td><td>7765</td><td>7683</td></tr>\n",
       "\t<tr><td>1704</td><td>6113</td><td>5738</td></tr>\n",
       "\t<tr><td>1705</td><td>8366</td><td>7779</td></tr>\n",
       "\t<tr><td>1706</td><td>7952</td><td>7417</td></tr>\n",
       "\t<tr><td>1707</td><td>8379</td><td>7687</td></tr>\n",
       "\t<tr><td>1708</td><td>8239</td><td>7623</td></tr>\n",
       "\t<tr><td>1709</td><td>7840</td><td>7380</td></tr>\n",
       "\t<tr><td>1710</td><td>7640</td><td>7288</td></tr>\n",
       "</tbody>\n",
       "</table>\n"
      ],
      "text/latex": [
       "A data.frame: 82 × 3\n",
       "\\begin{tabular}{lll}\n",
       " year & boys & girls\\\\\n",
       " <int> & <int> & <int>\\\\\n",
       "\\hline\n",
       "\t 1629 & 5218 & 4683\\\\\n",
       "\t 1630 & 4858 & 4457\\\\\n",
       "\t 1631 & 4422 & 4102\\\\\n",
       "\t 1632 & 4994 & 4590\\\\\n",
       "\t 1633 & 5158 & 4839\\\\\n",
       "\t 1634 & 5035 & 4820\\\\\n",
       "\t 1635 & 5106 & 4928\\\\\n",
       "\t 1636 & 4917 & 4605\\\\\n",
       "\t 1637 & 4703 & 4457\\\\\n",
       "\t 1638 & 5359 & 4952\\\\\n",
       "\t 1639 & 5366 & 4784\\\\\n",
       "\t 1640 & 5518 & 5332\\\\\n",
       "\t 1641 & 5470 & 5200\\\\\n",
       "\t 1642 & 5460 & 4910\\\\\n",
       "\t 1643 & 4793 & 4617\\\\\n",
       "\t 1644 & 4107 & 3997\\\\\n",
       "\t 1645 & 4047 & 3919\\\\\n",
       "\t 1646 & 3768 & 3395\\\\\n",
       "\t 1647 & 3796 & 3536\\\\\n",
       "\t 1648 & 3363 & 3181\\\\\n",
       "\t 1649 & 3079 & 2746\\\\\n",
       "\t 1650 & 2890 & 2722\\\\\n",
       "\t 1651 & 3231 & 2840\\\\\n",
       "\t 1652 & 3220 & 2908\\\\\n",
       "\t 1653 & 3196 & 2959\\\\\n",
       "\t 1654 & 3441 & 3179\\\\\n",
       "\t 1655 & 3655 & 3349\\\\\n",
       "\t 1656 & 3668 & 3382\\\\\n",
       "\t 1657 & 3396 & 3289\\\\\n",
       "\t 1658 & 3157 & 3013\\\\\n",
       "\t ⋮ & ⋮ & ⋮\\\\\n",
       "\t 1681 & 6822 & 6533\\\\\n",
       "\t 1682 & 6909 & 6744\\\\\n",
       "\t 1683 & 7577 & 7158\\\\\n",
       "\t 1684 & 7575 & 7127\\\\\n",
       "\t 1685 & 7484 & 7246\\\\\n",
       "\t 1686 & 7575 & 7119\\\\\n",
       "\t 1687 & 7737 & 7214\\\\\n",
       "\t 1688 & 7487 & 7101\\\\\n",
       "\t 1689 & 7604 & 7167\\\\\n",
       "\t 1690 & 7909 & 7302\\\\\n",
       "\t 1691 & 7662 & 7392\\\\\n",
       "\t 1692 & 7602 & 7316\\\\\n",
       "\t 1693 & 7676 & 7483\\\\\n",
       "\t 1694 & 6985 & 6647\\\\\n",
       "\t 1695 & 7263 & 6713\\\\\n",
       "\t 1696 & 7632 & 7229\\\\\n",
       "\t 1697 & 8062 & 7767\\\\\n",
       "\t 1698 & 8426 & 7626\\\\\n",
       "\t 1699 & 7911 & 7452\\\\\n",
       "\t 1700 & 7578 & 7061\\\\\n",
       "\t 1701 & 8102 & 7514\\\\\n",
       "\t 1702 & 8031 & 7656\\\\\n",
       "\t 1703 & 7765 & 7683\\\\\n",
       "\t 1704 & 6113 & 5738\\\\\n",
       "\t 1705 & 8366 & 7779\\\\\n",
       "\t 1706 & 7952 & 7417\\\\\n",
       "\t 1707 & 8379 & 7687\\\\\n",
       "\t 1708 & 8239 & 7623\\\\\n",
       "\t 1709 & 7840 & 7380\\\\\n",
       "\t 1710 & 7640 & 7288\\\\\n",
       "\\end{tabular}\n"
      ],
      "text/markdown": [
       "\n",
       "A data.frame: 82 × 3\n",
       "\n",
       "| year &lt;int&gt; | boys &lt;int&gt; | girls &lt;int&gt; |\n",
       "|---|---|---|\n",
       "| 1629 | 5218 | 4683 |\n",
       "| 1630 | 4858 | 4457 |\n",
       "| 1631 | 4422 | 4102 |\n",
       "| 1632 | 4994 | 4590 |\n",
       "| 1633 | 5158 | 4839 |\n",
       "| 1634 | 5035 | 4820 |\n",
       "| 1635 | 5106 | 4928 |\n",
       "| 1636 | 4917 | 4605 |\n",
       "| 1637 | 4703 | 4457 |\n",
       "| 1638 | 5359 | 4952 |\n",
       "| 1639 | 5366 | 4784 |\n",
       "| 1640 | 5518 | 5332 |\n",
       "| 1641 | 5470 | 5200 |\n",
       "| 1642 | 5460 | 4910 |\n",
       "| 1643 | 4793 | 4617 |\n",
       "| 1644 | 4107 | 3997 |\n",
       "| 1645 | 4047 | 3919 |\n",
       "| 1646 | 3768 | 3395 |\n",
       "| 1647 | 3796 | 3536 |\n",
       "| 1648 | 3363 | 3181 |\n",
       "| 1649 | 3079 | 2746 |\n",
       "| 1650 | 2890 | 2722 |\n",
       "| 1651 | 3231 | 2840 |\n",
       "| 1652 | 3220 | 2908 |\n",
       "| 1653 | 3196 | 2959 |\n",
       "| 1654 | 3441 | 3179 |\n",
       "| 1655 | 3655 | 3349 |\n",
       "| 1656 | 3668 | 3382 |\n",
       "| 1657 | 3396 | 3289 |\n",
       "| 1658 | 3157 | 3013 |\n",
       "| ⋮ | ⋮ | ⋮ |\n",
       "| 1681 | 6822 | 6533 |\n",
       "| 1682 | 6909 | 6744 |\n",
       "| 1683 | 7577 | 7158 |\n",
       "| 1684 | 7575 | 7127 |\n",
       "| 1685 | 7484 | 7246 |\n",
       "| 1686 | 7575 | 7119 |\n",
       "| 1687 | 7737 | 7214 |\n",
       "| 1688 | 7487 | 7101 |\n",
       "| 1689 | 7604 | 7167 |\n",
       "| 1690 | 7909 | 7302 |\n",
       "| 1691 | 7662 | 7392 |\n",
       "| 1692 | 7602 | 7316 |\n",
       "| 1693 | 7676 | 7483 |\n",
       "| 1694 | 6985 | 6647 |\n",
       "| 1695 | 7263 | 6713 |\n",
       "| 1696 | 7632 | 7229 |\n",
       "| 1697 | 8062 | 7767 |\n",
       "| 1698 | 8426 | 7626 |\n",
       "| 1699 | 7911 | 7452 |\n",
       "| 1700 | 7578 | 7061 |\n",
       "| 1701 | 8102 | 7514 |\n",
       "| 1702 | 8031 | 7656 |\n",
       "| 1703 | 7765 | 7683 |\n",
       "| 1704 | 6113 | 5738 |\n",
       "| 1705 | 8366 | 7779 |\n",
       "| 1706 | 7952 | 7417 |\n",
       "| 1707 | 8379 | 7687 |\n",
       "| 1708 | 8239 | 7623 |\n",
       "| 1709 | 7840 | 7380 |\n",
       "| 1710 | 7640 | 7288 |\n",
       "\n"
      ],
      "text/plain": [
       "   year boys girls\n",
       "1  1629 5218 4683 \n",
       "2  1630 4858 4457 \n",
       "3  1631 4422 4102 \n",
       "4  1632 4994 4590 \n",
       "5  1633 5158 4839 \n",
       "6  1634 5035 4820 \n",
       "7  1635 5106 4928 \n",
       "8  1636 4917 4605 \n",
       "9  1637 4703 4457 \n",
       "10 1638 5359 4952 \n",
       "11 1639 5366 4784 \n",
       "12 1640 5518 5332 \n",
       "13 1641 5470 5200 \n",
       "14 1642 5460 4910 \n",
       "15 1643 4793 4617 \n",
       "16 1644 4107 3997 \n",
       "17 1645 4047 3919 \n",
       "18 1646 3768 3395 \n",
       "19 1647 3796 3536 \n",
       "20 1648 3363 3181 \n",
       "21 1649 3079 2746 \n",
       "22 1650 2890 2722 \n",
       "23 1651 3231 2840 \n",
       "24 1652 3220 2908 \n",
       "25 1653 3196 2959 \n",
       "26 1654 3441 3179 \n",
       "27 1655 3655 3349 \n",
       "28 1656 3668 3382 \n",
       "29 1657 3396 3289 \n",
       "30 1658 3157 3013 \n",
       "⋮  ⋮    ⋮    ⋮    \n",
       "53 1681 6822 6533 \n",
       "54 1682 6909 6744 \n",
       "55 1683 7577 7158 \n",
       "56 1684 7575 7127 \n",
       "57 1685 7484 7246 \n",
       "58 1686 7575 7119 \n",
       "59 1687 7737 7214 \n",
       "60 1688 7487 7101 \n",
       "61 1689 7604 7167 \n",
       "62 1690 7909 7302 \n",
       "63 1691 7662 7392 \n",
       "64 1692 7602 7316 \n",
       "65 1693 7676 7483 \n",
       "66 1694 6985 6647 \n",
       "67 1695 7263 6713 \n",
       "68 1696 7632 7229 \n",
       "69 1697 8062 7767 \n",
       "70 1698 8426 7626 \n",
       "71 1699 7911 7452 \n",
       "72 1700 7578 7061 \n",
       "73 1701 8102 7514 \n",
       "74 1702 8031 7656 \n",
       "75 1703 7765 7683 \n",
       "76 1704 6113 5738 \n",
       "77 1705 8366 7779 \n",
       "78 1706 7952 7417 \n",
       "79 1707 8379 7687 \n",
       "80 1708 8239 7623 \n",
       "81 1709 7840 7380 \n",
       "82 1710 7640 7288 "
      ]
     },
     "metadata": {},
     "output_type": "display_data"
    }
   ],
   "source": [
    "arbuthnot"
   ]
  },
  {
   "cell_type": "markdown",
   "metadata": {},
   "source": [
    "What you should see are three columns of numbers, each row representing a different year: the first entry in each row  is the year, and the second and third are the numbers of boys and girls baptized that year, respectively. If you wish to see the contents of your dataset simply enter the name of the dataset (as it is called in R). Be careful. This command will attempt to display the entire file, so this should be avoided with very large files. If the dataset contains many observations, only a fraction of the observations may ultimately be displayed.  \n",
    "\n",
    "R has stored Arbuthnot’s data in a kind of spreadsheet or table called a *data frame*.\n",
    "\n",
    "You can see the dimensions of this data frame by using the `dim` command.\n"
   ]
  },
  {
   "cell_type": "code",
   "execution_count": 7,
   "metadata": {},
   "outputs": [
    {
     "data": {
      "text/html": [
       "<style>\n",
       ".list-inline {list-style: none; margin:0; padding: 0}\n",
       ".list-inline>li {display: inline-block}\n",
       ".list-inline>li:not(:last-child)::after {content: \"\\00b7\"; padding: 0 .5ex}\n",
       "</style>\n",
       "<ol class=list-inline><li>82</li><li>3</li></ol>\n"
      ],
      "text/latex": [
       "\\begin{enumerate*}\n",
       "\\item 82\n",
       "\\item 3\n",
       "\\end{enumerate*}\n"
      ],
      "text/markdown": [
       "1. 82\n",
       "2. 3\n",
       "\n",
       "\n"
      ],
      "text/plain": [
       "[1] 82  3"
      ]
     },
     "metadata": {},
     "output_type": "display_data"
    }
   ],
   "source": [
    "dim(arbuthnot)"
   ]
  },
  {
   "cell_type": "markdown",
   "metadata": {},
   "source": [
    "This command should output 82 3, indicating that there are 82 rows and 3 columns. You can see the names of these columns (or variables) by using the `names` command."
   ]
  },
  {
   "cell_type": "code",
   "execution_count": 8,
   "metadata": {},
   "outputs": [
    {
     "data": {
      "text/html": [
       "<style>\n",
       ".list-inline {list-style: none; margin:0; padding: 0}\n",
       ".list-inline>li {display: inline-block}\n",
       ".list-inline>li:not(:last-child)::after {content: \"\\00b7\"; padding: 0 .5ex}\n",
       "</style>\n",
       "<ol class=list-inline><li>'year'</li><li>'boys'</li><li>'girls'</li></ol>\n"
      ],
      "text/latex": [
       "\\begin{enumerate*}\n",
       "\\item 'year'\n",
       "\\item 'boys'\n",
       "\\item 'girls'\n",
       "\\end{enumerate*}\n"
      ],
      "text/markdown": [
       "1. 'year'\n",
       "2. 'boys'\n",
       "3. 'girls'\n",
       "\n",
       "\n"
      ],
      "text/plain": [
       "[1] \"year\"  \"boys\"  \"girls\""
      ]
     },
     "metadata": {},
     "output_type": "display_data"
    }
   ],
   "source": [
    "names(arbuthnot)"
   ]
  },
  {
   "cell_type": "markdown",
   "metadata": {},
   "source": [
    "You should see that the data frame contains the columns year, boys, and girls. At this point, you might notice that many of the commands in R look a lot like functions from math class; that is, invoking R commands means supplying a function with some number of arguments. The `dim` and `names` commands, for example, each took a single argument, the name of a data frame."
   ]
  },
  {
   "cell_type": "markdown",
   "metadata": {},
   "source": [
    "### Some exploration of the data\n",
    "\n",
    "Let’s start to examine the data a little more closely. Each column of the data frame represents a separate variable. We can review a single variable (access the data in a single column of a data frame) using the `dataframe$variable` structure as in the following command."
   ]
  },
  {
   "cell_type": "code",
   "execution_count": 9,
   "metadata": {},
   "outputs": [
    {
     "data": {
      "text/html": [
       "<style>\n",
       ".list-inline {list-style: none; margin:0; padding: 0}\n",
       ".list-inline>li {display: inline-block}\n",
       ".list-inline>li:not(:last-child)::after {content: \"\\00b7\"; padding: 0 .5ex}\n",
       "</style>\n",
       "<ol class=list-inline><li>5218</li><li>4858</li><li>4422</li><li>4994</li><li>5158</li><li>5035</li><li>5106</li><li>4917</li><li>4703</li><li>5359</li><li>5366</li><li>5518</li><li>5470</li><li>5460</li><li>4793</li><li>4107</li><li>4047</li><li>3768</li><li>3796</li><li>3363</li><li>3079</li><li>2890</li><li>3231</li><li>3220</li><li>3196</li><li>3441</li><li>3655</li><li>3668</li><li>3396</li><li>3157</li><li>3209</li><li>3724</li><li>4748</li><li>5216</li><li>5411</li><li>6041</li><li>5114</li><li>4678</li><li>5616</li><li>6073</li><li>6506</li><li>6278</li><li>6449</li><li>6443</li><li>6073</li><li>6113</li><li>6058</li><li>6552</li><li>6423</li><li>6568</li><li>6247</li><li>6548</li><li>6822</li><li>6909</li><li>7577</li><li>7575</li><li>7484</li><li>7575</li><li>7737</li><li>7487</li><li>7604</li><li>7909</li><li>7662</li><li>7602</li><li>7676</li><li>6985</li><li>7263</li><li>7632</li><li>8062</li><li>8426</li><li>7911</li><li>7578</li><li>8102</li><li>8031</li><li>7765</li><li>6113</li><li>8366</li><li>7952</li><li>8379</li><li>8239</li><li>7840</li><li>7640</li></ol>\n"
      ],
      "text/latex": [
       "\\begin{enumerate*}\n",
       "\\item 5218\n",
       "\\item 4858\n",
       "\\item 4422\n",
       "\\item 4994\n",
       "\\item 5158\n",
       "\\item 5035\n",
       "\\item 5106\n",
       "\\item 4917\n",
       "\\item 4703\n",
       "\\item 5359\n",
       "\\item 5366\n",
       "\\item 5518\n",
       "\\item 5470\n",
       "\\item 5460\n",
       "\\item 4793\n",
       "\\item 4107\n",
       "\\item 4047\n",
       "\\item 3768\n",
       "\\item 3796\n",
       "\\item 3363\n",
       "\\item 3079\n",
       "\\item 2890\n",
       "\\item 3231\n",
       "\\item 3220\n",
       "\\item 3196\n",
       "\\item 3441\n",
       "\\item 3655\n",
       "\\item 3668\n",
       "\\item 3396\n",
       "\\item 3157\n",
       "\\item 3209\n",
       "\\item 3724\n",
       "\\item 4748\n",
       "\\item 5216\n",
       "\\item 5411\n",
       "\\item 6041\n",
       "\\item 5114\n",
       "\\item 4678\n",
       "\\item 5616\n",
       "\\item 6073\n",
       "\\item 6506\n",
       "\\item 6278\n",
       "\\item 6449\n",
       "\\item 6443\n",
       "\\item 6073\n",
       "\\item 6113\n",
       "\\item 6058\n",
       "\\item 6552\n",
       "\\item 6423\n",
       "\\item 6568\n",
       "\\item 6247\n",
       "\\item 6548\n",
       "\\item 6822\n",
       "\\item 6909\n",
       "\\item 7577\n",
       "\\item 7575\n",
       "\\item 7484\n",
       "\\item 7575\n",
       "\\item 7737\n",
       "\\item 7487\n",
       "\\item 7604\n",
       "\\item 7909\n",
       "\\item 7662\n",
       "\\item 7602\n",
       "\\item 7676\n",
       "\\item 6985\n",
       "\\item 7263\n",
       "\\item 7632\n",
       "\\item 8062\n",
       "\\item 8426\n",
       "\\item 7911\n",
       "\\item 7578\n",
       "\\item 8102\n",
       "\\item 8031\n",
       "\\item 7765\n",
       "\\item 6113\n",
       "\\item 8366\n",
       "\\item 7952\n",
       "\\item 8379\n",
       "\\item 8239\n",
       "\\item 7840\n",
       "\\item 7640\n",
       "\\end{enumerate*}\n"
      ],
      "text/markdown": [
       "1. 5218\n",
       "2. 4858\n",
       "3. 4422\n",
       "4. 4994\n",
       "5. 5158\n",
       "6. 5035\n",
       "7. 5106\n",
       "8. 4917\n",
       "9. 4703\n",
       "10. 5359\n",
       "11. 5366\n",
       "12. 5518\n",
       "13. 5470\n",
       "14. 5460\n",
       "15. 4793\n",
       "16. 4107\n",
       "17. 4047\n",
       "18. 3768\n",
       "19. 3796\n",
       "20. 3363\n",
       "21. 3079\n",
       "22. 2890\n",
       "23. 3231\n",
       "24. 3220\n",
       "25. 3196\n",
       "26. 3441\n",
       "27. 3655\n",
       "28. 3668\n",
       "29. 3396\n",
       "30. 3157\n",
       "31. 3209\n",
       "32. 3724\n",
       "33. 4748\n",
       "34. 5216\n",
       "35. 5411\n",
       "36. 6041\n",
       "37. 5114\n",
       "38. 4678\n",
       "39. 5616\n",
       "40. 6073\n",
       "41. 6506\n",
       "42. 6278\n",
       "43. 6449\n",
       "44. 6443\n",
       "45. 6073\n",
       "46. 6113\n",
       "47. 6058\n",
       "48. 6552\n",
       "49. 6423\n",
       "50. 6568\n",
       "51. 6247\n",
       "52. 6548\n",
       "53. 6822\n",
       "54. 6909\n",
       "55. 7577\n",
       "56. 7575\n",
       "57. 7484\n",
       "58. 7575\n",
       "59. 7737\n",
       "60. 7487\n",
       "61. 7604\n",
       "62. 7909\n",
       "63. 7662\n",
       "64. 7602\n",
       "65. 7676\n",
       "66. 6985\n",
       "67. 7263\n",
       "68. 7632\n",
       "69. 8062\n",
       "70. 8426\n",
       "71. 7911\n",
       "72. 7578\n",
       "73. 8102\n",
       "74. 8031\n",
       "75. 7765\n",
       "76. 6113\n",
       "77. 8366\n",
       "78. 7952\n",
       "79. 8379\n",
       "80. 8239\n",
       "81. 7840\n",
       "82. 7640\n",
       "\n",
       "\n"
      ],
      "text/plain": [
       " [1] 5218 4858 4422 4994 5158 5035 5106 4917 4703 5359 5366 5518 5470 5460 4793\n",
       "[16] 4107 4047 3768 3796 3363 3079 2890 3231 3220 3196 3441 3655 3668 3396 3157\n",
       "[31] 3209 3724 4748 5216 5411 6041 5114 4678 5616 6073 6506 6278 6449 6443 6073\n",
       "[46] 6113 6058 6552 6423 6568 6247 6548 6822 6909 7577 7575 7484 7575 7737 7487\n",
       "[61] 7604 7909 7662 7602 7676 6985 7263 7632 8062 8426 7911 7578 8102 8031 7765\n",
       "[76] 6113 8366 7952 8379 8239 7840 7640"
      ]
     },
     "metadata": {},
     "output_type": "display_data"
    }
   ],
   "source": [
    "arbuthnot$boys"
   ]
  },
  {
   "cell_type": "markdown",
   "metadata": {},
   "source": [
    "This command will only show the number of boys baptized each year.  \n",
    "\n",
    "\n",
    "Notice that the way these data are printed is different. When we looked at the complete data frame, we saw 82 rows, one on each line of the display. These data are no longer structured in a table with other variables, so they are displayed one right after another. Objects that print out in this way are called vectors; they represent a set of numbers. "
   ]
  },
  {
   "cell_type": "markdown",
   "metadata": {},
   "source": [
    "### Question 2: Use the code cell below to show just the counts of girls baptized each year."
   ]
  },
  {
   "cell_type": "code",
   "execution_count": 10,
   "metadata": {},
   "outputs": [
    {
     "data": {
      "text/html": [
       "<style>\n",
       ".list-inline {list-style: none; margin:0; padding: 0}\n",
       ".list-inline>li {display: inline-block}\n",
       ".list-inline>li:not(:last-child)::after {content: \"\\00b7\"; padding: 0 .5ex}\n",
       "</style>\n",
       "<ol class=list-inline><li>4683</li><li>4457</li><li>4102</li><li>4590</li><li>4839</li><li>4820</li><li>4928</li><li>4605</li><li>4457</li><li>4952</li><li>4784</li><li>5332</li><li>5200</li><li>4910</li><li>4617</li><li>3997</li><li>3919</li><li>3395</li><li>3536</li><li>3181</li><li>2746</li><li>2722</li><li>2840</li><li>2908</li><li>2959</li><li>3179</li><li>3349</li><li>3382</li><li>3289</li><li>3013</li><li>2781</li><li>3247</li><li>4107</li><li>4803</li><li>4881</li><li>5681</li><li>4858</li><li>4319</li><li>5322</li><li>5560</li><li>5829</li><li>5719</li><li>6061</li><li>6120</li><li>5822</li><li>5738</li><li>5717</li><li>5847</li><li>6203</li><li>6033</li><li>6041</li><li>6299</li><li>6533</li><li>6744</li><li>7158</li><li>7127</li><li>7246</li><li>7119</li><li>7214</li><li>7101</li><li>7167</li><li>7302</li><li>7392</li><li>7316</li><li>7483</li><li>6647</li><li>6713</li><li>7229</li><li>7767</li><li>7626</li><li>7452</li><li>7061</li><li>7514</li><li>7656</li><li>7683</li><li>5738</li><li>7779</li><li>7417</li><li>7687</li><li>7623</li><li>7380</li><li>7288</li></ol>\n"
      ],
      "text/latex": [
       "\\begin{enumerate*}\n",
       "\\item 4683\n",
       "\\item 4457\n",
       "\\item 4102\n",
       "\\item 4590\n",
       "\\item 4839\n",
       "\\item 4820\n",
       "\\item 4928\n",
       "\\item 4605\n",
       "\\item 4457\n",
       "\\item 4952\n",
       "\\item 4784\n",
       "\\item 5332\n",
       "\\item 5200\n",
       "\\item 4910\n",
       "\\item 4617\n",
       "\\item 3997\n",
       "\\item 3919\n",
       "\\item 3395\n",
       "\\item 3536\n",
       "\\item 3181\n",
       "\\item 2746\n",
       "\\item 2722\n",
       "\\item 2840\n",
       "\\item 2908\n",
       "\\item 2959\n",
       "\\item 3179\n",
       "\\item 3349\n",
       "\\item 3382\n",
       "\\item 3289\n",
       "\\item 3013\n",
       "\\item 2781\n",
       "\\item 3247\n",
       "\\item 4107\n",
       "\\item 4803\n",
       "\\item 4881\n",
       "\\item 5681\n",
       "\\item 4858\n",
       "\\item 4319\n",
       "\\item 5322\n",
       "\\item 5560\n",
       "\\item 5829\n",
       "\\item 5719\n",
       "\\item 6061\n",
       "\\item 6120\n",
       "\\item 5822\n",
       "\\item 5738\n",
       "\\item 5717\n",
       "\\item 5847\n",
       "\\item 6203\n",
       "\\item 6033\n",
       "\\item 6041\n",
       "\\item 6299\n",
       "\\item 6533\n",
       "\\item 6744\n",
       "\\item 7158\n",
       "\\item 7127\n",
       "\\item 7246\n",
       "\\item 7119\n",
       "\\item 7214\n",
       "\\item 7101\n",
       "\\item 7167\n",
       "\\item 7302\n",
       "\\item 7392\n",
       "\\item 7316\n",
       "\\item 7483\n",
       "\\item 6647\n",
       "\\item 6713\n",
       "\\item 7229\n",
       "\\item 7767\n",
       "\\item 7626\n",
       "\\item 7452\n",
       "\\item 7061\n",
       "\\item 7514\n",
       "\\item 7656\n",
       "\\item 7683\n",
       "\\item 5738\n",
       "\\item 7779\n",
       "\\item 7417\n",
       "\\item 7687\n",
       "\\item 7623\n",
       "\\item 7380\n",
       "\\item 7288\n",
       "\\end{enumerate*}\n"
      ],
      "text/markdown": [
       "1. 4683\n",
       "2. 4457\n",
       "3. 4102\n",
       "4. 4590\n",
       "5. 4839\n",
       "6. 4820\n",
       "7. 4928\n",
       "8. 4605\n",
       "9. 4457\n",
       "10. 4952\n",
       "11. 4784\n",
       "12. 5332\n",
       "13. 5200\n",
       "14. 4910\n",
       "15. 4617\n",
       "16. 3997\n",
       "17. 3919\n",
       "18. 3395\n",
       "19. 3536\n",
       "20. 3181\n",
       "21. 2746\n",
       "22. 2722\n",
       "23. 2840\n",
       "24. 2908\n",
       "25. 2959\n",
       "26. 3179\n",
       "27. 3349\n",
       "28. 3382\n",
       "29. 3289\n",
       "30. 3013\n",
       "31. 2781\n",
       "32. 3247\n",
       "33. 4107\n",
       "34. 4803\n",
       "35. 4881\n",
       "36. 5681\n",
       "37. 4858\n",
       "38. 4319\n",
       "39. 5322\n",
       "40. 5560\n",
       "41. 5829\n",
       "42. 5719\n",
       "43. 6061\n",
       "44. 6120\n",
       "45. 5822\n",
       "46. 5738\n",
       "47. 5717\n",
       "48. 5847\n",
       "49. 6203\n",
       "50. 6033\n",
       "51. 6041\n",
       "52. 6299\n",
       "53. 6533\n",
       "54. 6744\n",
       "55. 7158\n",
       "56. 7127\n",
       "57. 7246\n",
       "58. 7119\n",
       "59. 7214\n",
       "60. 7101\n",
       "61. 7167\n",
       "62. 7302\n",
       "63. 7392\n",
       "64. 7316\n",
       "65. 7483\n",
       "66. 6647\n",
       "67. 6713\n",
       "68. 7229\n",
       "69. 7767\n",
       "70. 7626\n",
       "71. 7452\n",
       "72. 7061\n",
       "73. 7514\n",
       "74. 7656\n",
       "75. 7683\n",
       "76. 5738\n",
       "77. 7779\n",
       "78. 7417\n",
       "79. 7687\n",
       "80. 7623\n",
       "81. 7380\n",
       "82. 7288\n",
       "\n",
       "\n"
      ],
      "text/plain": [
       " [1] 4683 4457 4102 4590 4839 4820 4928 4605 4457 4952 4784 5332 5200 4910 4617\n",
       "[16] 3997 3919 3395 3536 3181 2746 2722 2840 2908 2959 3179 3349 3382 3289 3013\n",
       "[31] 2781 3247 4107 4803 4881 5681 4858 4319 5322 5560 5829 5719 6061 6120 5822\n",
       "[46] 5738 5717 5847 6203 6033 6041 6299 6533 6744 7158 7127 7246 7119 7214 7101\n",
       "[61] 7167 7302 7392 7316 7483 6647 6713 7229 7767 7626 7452 7061 7514 7656 7683\n",
       "[76] 5738 7779 7417 7687 7623 7380 7288"
      ]
     },
     "metadata": {},
     "output_type": "display_data"
    }
   ],
   "source": [
    "arbuthnot$girls"
   ]
  },
  {
   "cell_type": "markdown",
   "metadata": {},
   "source": [
    "### Graphics in R\n",
    "\n",
    "R has some powerful functions for making graphics. We can create a simple plot of the number of girls baptized per year, using the `plot` command."
   ]
  },
  {
   "cell_type": "code",
   "execution_count": 11,
   "metadata": {},
   "outputs": [
    {
     "data": {
      "image/png": "[encoded data removed]",
      "text/plain": [
       "plot without title"
      ]
     },
     "metadata": {
      "image/png": {
       "height": 420,
       "width": 420
      },
      "text/plain": {
       "height": 420,
       "width": 420
      }
     },
     "output_type": "display_data"
    }
   ],
   "source": [
    "plot(x = arbuthnot$year, y = arbuthnot$girls)"
   ]
  },
  {
   "cell_type": "markdown",
   "metadata": {},
   "source": [
    "By default, R creates a scatterplot with each x,y pair indicated by an open circle. Notice that the command above again looks like a function, this time with two arguments separated by a comma. The first argument in the plot function specifies the variable for the x-axis and the second for the y-axis. If we wanted to connect the data points with lines, we could add a third argument, setting the `type` of graph as a line graph by using the letter **l** for line in the type argument."
   ]
  },
  {
   "cell_type": "code",
   "execution_count": 12,
   "metadata": {},
   "outputs": [
    {
     "data": {
      "image/png": "[encoded data removed]",
      "text/plain": [
       "plot without title"
      ]
     },
     "metadata": {
      "image/png": {
       "height": 420,
       "width": 420
      },
      "text/plain": {
       "height": 420,
       "width": 420
      }
     },
     "output_type": "display_data"
    }
   ],
   "source": [
    "plot(x = arbuthnot$year, y = arbuthnot$girls, type = \"l\")"
   ]
  },
  {
   "cell_type": "markdown",
   "metadata": {},
   "source": [
    "### Question 3: Is there an apparent trend in the number of girls baptized over the years? If so, how would you describe it?"
   ]
  },
  {
   "cell_type": "markdown",
   "metadata": {},
   "source": [
    "### Answer: There is a generally increasing trend in the number of girls baptized over the years. Of course there is year-to-year variation, and there is also a sharp decline in girls baptized in the mid 1600's (what might explain that?), but the overall trend is towards increasing numbers of girls baptized."
   ]
  },
  {
   "cell_type": "markdown",
   "metadata": {},
   "source": [
    "You might wonder how you are supposed to know that it was possible to add that third argument. Thankfully, R documents all of its functions extensively. To read what a function does and learn the arguments that are available to you, just type in a question mark followed by the name of the function that you’re interested in. Try the following."
   ]
  },
  {
   "cell_type": "code",
   "execution_count": 13,
   "metadata": {},
   "outputs": [],
   "source": [
    "?plot"
   ]
  },
  {
   "cell_type": "markdown",
   "metadata": {},
   "source": [
    "Now, suppose we want to plot the total number of baptisms. To compute this, we could use the fact that R is really just a big calculator. To see the total number of baptisms in 1629 we can type in mathematical expressions like"
   ]
  },
  {
   "cell_type": "code",
   "execution_count": 14,
   "metadata": {},
   "outputs": [
    {
     "data": {
      "text/html": [
       "9901"
      ],
      "text/latex": [
       "9901"
      ],
      "text/markdown": [
       "9901"
      ],
      "text/plain": [
       "[1] 9901"
      ]
     },
     "metadata": {},
     "output_type": "display_data"
    }
   ],
   "source": [
    "5218 + 4683"
   ]
  },
  {
   "cell_type": "markdown",
   "metadata": {},
   "source": [
    "We could repeat this once for each year, but there is a faster way. If we add the vector for baptisms for boys and girls, R will compute all sums simultaneously."
   ]
  },
  {
   "cell_type": "code",
   "execution_count": 15,
   "metadata": {},
   "outputs": [
    {
     "data": {
      "text/html": [
       "<style>\n",
       ".list-inline {list-style: none; margin:0; padding: 0}\n",
       ".list-inline>li {display: inline-block}\n",
       ".list-inline>li:not(:last-child)::after {content: \"\\00b7\"; padding: 0 .5ex}\n",
       "</style>\n",
       "<ol class=list-inline><li>9901</li><li>9315</li><li>8524</li><li>9584</li><li>9997</li><li>9855</li><li>10034</li><li>9522</li><li>9160</li><li>10311</li><li>10150</li><li>10850</li><li>10670</li><li>10370</li><li>9410</li><li>8104</li><li>7966</li><li>7163</li><li>7332</li><li>6544</li><li>5825</li><li>5612</li><li>6071</li><li>6128</li><li>6155</li><li>6620</li><li>7004</li><li>7050</li><li>6685</li><li>6170</li><li>5990</li><li>6971</li><li>8855</li><li>10019</li><li>10292</li><li>11722</li><li>9972</li><li>8997</li><li>10938</li><li>11633</li><li>12335</li><li>11997</li><li>12510</li><li>12563</li><li>11895</li><li>11851</li><li>11775</li><li>12399</li><li>12626</li><li>12601</li><li>12288</li><li>12847</li><li>13355</li><li>13653</li><li>14735</li><li>14702</li><li>14730</li><li>14694</li><li>14951</li><li>14588</li><li>14771</li><li>15211</li><li>15054</li><li>14918</li><li>15159</li><li>13632</li><li>13976</li><li>14861</li><li>15829</li><li>16052</li><li>15363</li><li>14639</li><li>15616</li><li>15687</li><li>15448</li><li>11851</li><li>16145</li><li>15369</li><li>16066</li><li>15862</li><li>15220</li><li>14928</li></ol>\n"
      ],
      "text/latex": [
       "\\begin{enumerate*}\n",
       "\\item 9901\n",
       "\\item 9315\n",
       "\\item 8524\n",
       "\\item 9584\n",
       "\\item 9997\n",
       "\\item 9855\n",
       "\\item 10034\n",
       "\\item 9522\n",
       "\\item 9160\n",
       "\\item 10311\n",
       "\\item 10150\n",
       "\\item 10850\n",
       "\\item 10670\n",
       "\\item 10370\n",
       "\\item 9410\n",
       "\\item 8104\n",
       "\\item 7966\n",
       "\\item 7163\n",
       "\\item 7332\n",
       "\\item 6544\n",
       "\\item 5825\n",
       "\\item 5612\n",
       "\\item 6071\n",
       "\\item 6128\n",
       "\\item 6155\n",
       "\\item 6620\n",
       "\\item 7004\n",
       "\\item 7050\n",
       "\\item 6685\n",
       "\\item 6170\n",
       "\\item 5990\n",
       "\\item 6971\n",
       "\\item 8855\n",
       "\\item 10019\n",
       "\\item 10292\n",
       "\\item 11722\n",
       "\\item 9972\n",
       "\\item 8997\n",
       "\\item 10938\n",
       "\\item 11633\n",
       "\\item 12335\n",
       "\\item 11997\n",
       "\\item 12510\n",
       "\\item 12563\n",
       "\\item 11895\n",
       "\\item 11851\n",
       "\\item 11775\n",
       "\\item 12399\n",
       "\\item 12626\n",
       "\\item 12601\n",
       "\\item 12288\n",
       "\\item 12847\n",
       "\\item 13355\n",
       "\\item 13653\n",
       "\\item 14735\n",
       "\\item 14702\n",
       "\\item 14730\n",
       "\\item 14694\n",
       "\\item 14951\n",
       "\\item 14588\n",
       "\\item 14771\n",
       "\\item 15211\n",
       "\\item 15054\n",
       "\\item 14918\n",
       "\\item 15159\n",
       "\\item 13632\n",
       "\\item 13976\n",
       "\\item 14861\n",
       "\\item 15829\n",
       "\\item 16052\n",
       "\\item 15363\n",
       "\\item 14639\n",
       "\\item 15616\n",
       "\\item 15687\n",
       "\\item 15448\n",
       "\\item 11851\n",
       "\\item 16145\n",
       "\\item 15369\n",
       "\\item 16066\n",
       "\\item 15862\n",
       "\\item 15220\n",
       "\\item 14928\n",
       "\\end{enumerate*}\n"
      ],
      "text/markdown": [
       "1. 9901\n",
       "2. 9315\n",
       "3. 8524\n",
       "4. 9584\n",
       "5. 9997\n",
       "6. 9855\n",
       "7. 10034\n",
       "8. 9522\n",
       "9. 9160\n",
       "10. 10311\n",
       "11. 10150\n",
       "12. 10850\n",
       "13. 10670\n",
       "14. 10370\n",
       "15. 9410\n",
       "16. 8104\n",
       "17. 7966\n",
       "18. 7163\n",
       "19. 7332\n",
       "20. 6544\n",
       "21. 5825\n",
       "22. 5612\n",
       "23. 6071\n",
       "24. 6128\n",
       "25. 6155\n",
       "26. 6620\n",
       "27. 7004\n",
       "28. 7050\n",
       "29. 6685\n",
       "30. 6170\n",
       "31. 5990\n",
       "32. 6971\n",
       "33. 8855\n",
       "34. 10019\n",
       "35. 10292\n",
       "36. 11722\n",
       "37. 9972\n",
       "38. 8997\n",
       "39. 10938\n",
       "40. 11633\n",
       "41. 12335\n",
       "42. 11997\n",
       "43. 12510\n",
       "44. 12563\n",
       "45. 11895\n",
       "46. 11851\n",
       "47. 11775\n",
       "48. 12399\n",
       "49. 12626\n",
       "50. 12601\n",
       "51. 12288\n",
       "52. 12847\n",
       "53. 13355\n",
       "54. 13653\n",
       "55. 14735\n",
       "56. 14702\n",
       "57. 14730\n",
       "58. 14694\n",
       "59. 14951\n",
       "60. 14588\n",
       "61. 14771\n",
       "62. 15211\n",
       "63. 15054\n",
       "64. 14918\n",
       "65. 15159\n",
       "66. 13632\n",
       "67. 13976\n",
       "68. 14861\n",
       "69. 15829\n",
       "70. 16052\n",
       "71. 15363\n",
       "72. 14639\n",
       "73. 15616\n",
       "74. 15687\n",
       "75. 15448\n",
       "76. 11851\n",
       "77. 16145\n",
       "78. 15369\n",
       "79. 16066\n",
       "80. 15862\n",
       "81. 15220\n",
       "82. 14928\n",
       "\n",
       "\n"
      ],
      "text/plain": [
       " [1]  9901  9315  8524  9584  9997  9855 10034  9522  9160 10311 10150 10850\n",
       "[13] 10670 10370  9410  8104  7966  7163  7332  6544  5825  5612  6071  6128\n",
       "[25]  6155  6620  7004  7050  6685  6170  5990  6971  8855 10019 10292 11722\n",
       "[37]  9972  8997 10938 11633 12335 11997 12510 12563 11895 11851 11775 12399\n",
       "[49] 12626 12601 12288 12847 13355 13653 14735 14702 14730 14694 14951 14588\n",
       "[61] 14771 15211 15054 14918 15159 13632 13976 14861 15829 16052 15363 14639\n",
       "[73] 15616 15687 15448 11851 16145 15369 16066 15862 15220 14928"
      ]
     },
     "metadata": {},
     "output_type": "display_data"
    }
   ],
   "source": [
    "arbuthnot$boys + arbuthnot$girls"
   ]
  },
  {
   "cell_type": "markdown",
   "metadata": {},
   "source": [
    "What you will see are 82 numbers (in that cpmpressed display, because we aren’t looking at a data frame here). Each of the 82 numbers represents the total number of baptisms in London in a year. We can make a plot of the total number of baptisms per year."
   ]
  },
  {
   "cell_type": "code",
   "execution_count": 16,
   "metadata": {},
   "outputs": [
    {
     "data": {
      "image/png": "[encoded data removed]",
      "text/plain": [
       "plot without title"
      ]
     },
     "metadata": {
      "image/png": {
       "height": 420,
       "width": 420
      },
      "text/plain": {
       "height": 420,
       "width": 420
      }
     },
     "output_type": "display_data"
    }
   ],
   "source": [
    "plot(arbuthnot$year, arbuthnot$boys + arbuthnot$girls)"
   ]
  },
  {
   "cell_type": "markdown",
   "metadata": {},
   "source": [
    "#### or "
   ]
  },
  {
   "cell_type": "code",
   "execution_count": 17,
   "metadata": {},
   "outputs": [
    {
     "data": {
      "image/png": "[encoded data removed]",
      "text/plain": [
       "plot without title"
      ]
     },
     "metadata": {
      "image/png": {
       "height": 420,
       "width": 420
      },
      "text/plain": {
       "height": 420,
       "width": 420
      }
     },
     "output_type": "display_data"
    }
   ],
   "source": [
    "plot(arbuthnot$year, arbuthnot$boys + arbuthnot$girls, type = \"l\")"
   ]
  },
  {
   "cell_type": "markdown",
   "metadata": {},
   "source": [
    "This time, note that we left out the identifiers of the first two arguments. We can do this because the help file shows that the default for `plot` is for the first argument to be the x-variable and the second argument to be the y-variable."
   ]
  },
  {
   "cell_type": "markdown",
   "metadata": {},
   "source": [
    "Similarly to how we computed the total number of baptisms in 1629 we can compute proportion of all baptisms in 1629 that are boys"
   ]
  },
  {
   "cell_type": "code",
   "execution_count": 18,
   "metadata": {},
   "outputs": [
    {
     "data": {
      "text/html": [
       "0.527017472982527"
      ],
      "text/latex": [
       "0.527017472982527"
      ],
      "text/markdown": [
       "0.527017472982527"
      ],
      "text/plain": [
       "[1] 0.5270175"
      ]
     },
     "metadata": {},
     "output_type": "display_data"
    }
   ],
   "source": [
    "5218 / (5218 + 4683)"
   ]
  },
  {
   "cell_type": "markdown",
   "metadata": {},
   "source": [
    "This may also be computed for all years simultaneously."
   ]
  },
  {
   "cell_type": "code",
   "execution_count": 19,
   "metadata": {},
   "outputs": [
    {
     "data": {
      "text/html": [
       "<style>\n",
       ".list-inline {list-style: none; margin:0; padding: 0}\n",
       ".list-inline>li {display: inline-block}\n",
       ".list-inline>li:not(:last-child)::after {content: \"\\00b7\"; padding: 0 .5ex}\n",
       "</style>\n",
       "<ol class=list-inline><li>0.527017472982527</li><li>0.521524422973698</li><li>0.51877053026748</li><li>0.521076794657763</li><li>0.515954786435931</li><li>0.510908168442415</li><li>0.50886984253538</li><li>0.51638311279143</li><li>0.513427947598253</li><li>0.519736204053923</li><li>0.528669950738916</li><li>0.508571428571429</li><li>0.512652296157451</li><li>0.526518804243009</li><li>0.509351753453773</li><li>0.506786771964462</li><li>0.508034145116746</li><li>0.526036576853274</li><li>0.517730496453901</li><li>0.51390586797066</li><li>0.528583690987124</li><li>0.514967925873129</li><li>0.532202273101631</li><li>0.525456919060052</li><li>0.519252640129976</li><li>0.519788519637462</li><li>0.521844660194175</li><li>0.520283687943262</li><li>0.508002991772625</li><li>0.511669367909238</li><li>0.535726210350584</li><li>0.534213168842347</li><li>0.536194240542067</li><li>0.52061083940513</li><li>0.525748153905946</li><li>0.515355741341068</li><li>0.512835940633775</li><li>0.519951094809381</li><li>0.513439385628086</li><li>0.522049342388034</li><li>0.527442237535468</li><li>0.523297491039427</li><li>0.51550759392486</li><li>0.512855209742896</li><li>0.510550651534258</li><li>0.515821449666695</li><li>0.51447983014862</li><li>0.528429712073554</li><li>0.508712181213369</li><li>0.52122847393064</li><li>0.508382161458333</li><li>0.509690978438546</li><li>0.510819917633845</li><li>0.506042627993847</li><li>0.514217848659654</li><li>0.51523602230989</li><li>0.508078750848608</li><li>0.515516537362189</li><li>0.517490468864959</li><li>0.513230052097615</li><li>0.514792498815246</li><li>0.519952665833936</li><li>0.508967716221602</li><li>0.509585735353264</li><li>0.506365855267498</li><li>0.512397300469484</li><li>0.519676588437321</li><li>0.513558979880223</li><li>0.509318339756144</li><li>0.524919013207077</li><li>0.51493848857645</li><li>0.517658309993852</li><li>0.518826844262295</li><li>0.511952572193536</li><li>0.502654065251165</li><li>0.515821449666695</li><li>0.518179002787241</li><li>0.517405166243737</li><li>0.521536163326279</li><li>0.519417475728155</li><li>0.515111695137976</li><li>0.511789924973205</li></ol>\n"
      ],
      "text/latex": [
       "\\begin{enumerate*}\n",
       "\\item 0.527017472982527\n",
       "\\item 0.521524422973698\n",
       "\\item 0.51877053026748\n",
       "\\item 0.521076794657763\n",
       "\\item 0.515954786435931\n",
       "\\item 0.510908168442415\n",
       "\\item 0.50886984253538\n",
       "\\item 0.51638311279143\n",
       "\\item 0.513427947598253\n",
       "\\item 0.519736204053923\n",
       "\\item 0.528669950738916\n",
       "\\item 0.508571428571429\n",
       "\\item 0.512652296157451\n",
       "\\item 0.526518804243009\n",
       "\\item 0.509351753453773\n",
       "\\item 0.506786771964462\n",
       "\\item 0.508034145116746\n",
       "\\item 0.526036576853274\n",
       "\\item 0.517730496453901\n",
       "\\item 0.51390586797066\n",
       "\\item 0.528583690987124\n",
       "\\item 0.514967925873129\n",
       "\\item 0.532202273101631\n",
       "\\item 0.525456919060052\n",
       "\\item 0.519252640129976\n",
       "\\item 0.519788519637462\n",
       "\\item 0.521844660194175\n",
       "\\item 0.520283687943262\n",
       "\\item 0.508002991772625\n",
       "\\item 0.511669367909238\n",
       "\\item 0.535726210350584\n",
       "\\item 0.534213168842347\n",
       "\\item 0.536194240542067\n",
       "\\item 0.52061083940513\n",
       "\\item 0.525748153905946\n",
       "\\item 0.515355741341068\n",
       "\\item 0.512835940633775\n",
       "\\item 0.519951094809381\n",
       "\\item 0.513439385628086\n",
       "\\item 0.522049342388034\n",
       "\\item 0.527442237535468\n",
       "\\item 0.523297491039427\n",
       "\\item 0.51550759392486\n",
       "\\item 0.512855209742896\n",
       "\\item 0.510550651534258\n",
       "\\item 0.515821449666695\n",
       "\\item 0.51447983014862\n",
       "\\item 0.528429712073554\n",
       "\\item 0.508712181213369\n",
       "\\item 0.52122847393064\n",
       "\\item 0.508382161458333\n",
       "\\item 0.509690978438546\n",
       "\\item 0.510819917633845\n",
       "\\item 0.506042627993847\n",
       "\\item 0.514217848659654\n",
       "\\item 0.51523602230989\n",
       "\\item 0.508078750848608\n",
       "\\item 0.515516537362189\n",
       "\\item 0.517490468864959\n",
       "\\item 0.513230052097615\n",
       "\\item 0.514792498815246\n",
       "\\item 0.519952665833936\n",
       "\\item 0.508967716221602\n",
       "\\item 0.509585735353264\n",
       "\\item 0.506365855267498\n",
       "\\item 0.512397300469484\n",
       "\\item 0.519676588437321\n",
       "\\item 0.513558979880223\n",
       "\\item 0.509318339756144\n",
       "\\item 0.524919013207077\n",
       "\\item 0.51493848857645\n",
       "\\item 0.517658309993852\n",
       "\\item 0.518826844262295\n",
       "\\item 0.511952572193536\n",
       "\\item 0.502654065251165\n",
       "\\item 0.515821449666695\n",
       "\\item 0.518179002787241\n",
       "\\item 0.517405166243737\n",
       "\\item 0.521536163326279\n",
       "\\item 0.519417475728155\n",
       "\\item 0.515111695137976\n",
       "\\item 0.511789924973205\n",
       "\\end{enumerate*}\n"
      ],
      "text/markdown": [
       "1. 0.527017472982527\n",
       "2. 0.521524422973698\n",
       "3. 0.51877053026748\n",
       "4. 0.521076794657763\n",
       "5. 0.515954786435931\n",
       "6. 0.510908168442415\n",
       "7. 0.50886984253538\n",
       "8. 0.51638311279143\n",
       "9. 0.513427947598253\n",
       "10. 0.519736204053923\n",
       "11. 0.528669950738916\n",
       "12. 0.508571428571429\n",
       "13. 0.512652296157451\n",
       "14. 0.526518804243009\n",
       "15. 0.509351753453773\n",
       "16. 0.506786771964462\n",
       "17. 0.508034145116746\n",
       "18. 0.526036576853274\n",
       "19. 0.517730496453901\n",
       "20. 0.51390586797066\n",
       "21. 0.528583690987124\n",
       "22. 0.514967925873129\n",
       "23. 0.532202273101631\n",
       "24. 0.525456919060052\n",
       "25. 0.519252640129976\n",
       "26. 0.519788519637462\n",
       "27. 0.521844660194175\n",
       "28. 0.520283687943262\n",
       "29. 0.508002991772625\n",
       "30. 0.511669367909238\n",
       "31. 0.535726210350584\n",
       "32. 0.534213168842347\n",
       "33. 0.536194240542067\n",
       "34. 0.52061083940513\n",
       "35. 0.525748153905946\n",
       "36. 0.515355741341068\n",
       "37. 0.512835940633775\n",
       "38. 0.519951094809381\n",
       "39. 0.513439385628086\n",
       "40. 0.522049342388034\n",
       "41. 0.527442237535468\n",
       "42. 0.523297491039427\n",
       "43. 0.51550759392486\n",
       "44. 0.512855209742896\n",
       "45. 0.510550651534258\n",
       "46. 0.515821449666695\n",
       "47. 0.51447983014862\n",
       "48. 0.528429712073554\n",
       "49. 0.508712181213369\n",
       "50. 0.52122847393064\n",
       "51. 0.508382161458333\n",
       "52. 0.509690978438546\n",
       "53. 0.510819917633845\n",
       "54. 0.506042627993847\n",
       "55. 0.514217848659654\n",
       "56. 0.51523602230989\n",
       "57. 0.508078750848608\n",
       "58. 0.515516537362189\n",
       "59. 0.517490468864959\n",
       "60. 0.513230052097615\n",
       "61. 0.514792498815246\n",
       "62. 0.519952665833936\n",
       "63. 0.508967716221602\n",
       "64. 0.509585735353264\n",
       "65. 0.506365855267498\n",
       "66. 0.512397300469484\n",
       "67. 0.519676588437321\n",
       "68. 0.513558979880223\n",
       "69. 0.509318339756144\n",
       "70. 0.524919013207077\n",
       "71. 0.51493848857645\n",
       "72. 0.517658309993852\n",
       "73. 0.518826844262295\n",
       "74. 0.511952572193536\n",
       "75. 0.502654065251165\n",
       "76. 0.515821449666695\n",
       "77. 0.518179002787241\n",
       "78. 0.517405166243737\n",
       "79. 0.521536163326279\n",
       "80. 0.519417475728155\n",
       "81. 0.515111695137976\n",
       "82. 0.511789924973205\n",
       "\n",
       "\n"
      ],
      "text/plain": [
       " [1] 0.5270175 0.5215244 0.5187705 0.5210768 0.5159548 0.5109082 0.5088698\n",
       " [8] 0.5163831 0.5134279 0.5197362 0.5286700 0.5085714 0.5126523 0.5265188\n",
       "[15] 0.5093518 0.5067868 0.5080341 0.5260366 0.5177305 0.5139059 0.5285837\n",
       "[22] 0.5149679 0.5322023 0.5254569 0.5192526 0.5197885 0.5218447 0.5202837\n",
       "[29] 0.5080030 0.5116694 0.5357262 0.5342132 0.5361942 0.5206108 0.5257482\n",
       "[36] 0.5153557 0.5128359 0.5199511 0.5134394 0.5220493 0.5274422 0.5232975\n",
       "[43] 0.5155076 0.5128552 0.5105507 0.5158214 0.5144798 0.5284297 0.5087122\n",
       "[50] 0.5212285 0.5083822 0.5096910 0.5108199 0.5060426 0.5142178 0.5152360\n",
       "[57] 0.5080788 0.5155165 0.5174905 0.5132301 0.5147925 0.5199527 0.5089677\n",
       "[64] 0.5095857 0.5063659 0.5123973 0.5196766 0.5135590 0.5093183 0.5249190\n",
       "[71] 0.5149385 0.5176583 0.5188268 0.5119526 0.5026541 0.5158214 0.5181790\n",
       "[78] 0.5174052 0.5215362 0.5194175 0.5151117 0.5117899"
      ]
     },
     "metadata": {},
     "output_type": "display_data"
    }
   ],
   "source": [
    "arbuthnot$boys / (arbuthnot$boys + arbuthnot$girls)"
   ]
  },
  {
   "cell_type": "markdown",
   "metadata": {},
   "source": [
    "Note that with R as with your calculator, you need to be conscious of the order of operations. Here, we want to divide the number of boys by the total number of newborns, so we have to use parentheses. Without them, R will first do the division, then the addition, giving you something that is not a proportion."
   ]
  },
  {
   "cell_type": "markdown",
   "metadata": {},
   "source": [
    "### Question 4: Use the code cell below to make a plot of the proportion of boys over time. "
   ]
  },
  {
   "cell_type": "code",
   "execution_count": 20,
   "metadata": {},
   "outputs": [
    {
     "data": {
      "image/png": "[encoded data removed]",
      "text/plain": [
       "plot without title"
      ]
     },
     "metadata": {
      "image/png": {
       "height": 420,
       "width": 420
      },
      "text/plain": {
       "height": 420,
       "width": 420
      }
     },
     "output_type": "display_data"
    }
   ],
   "source": [
    "plot(arbuthnot$year, arbuthnot$boys / (arbuthnot$boys + arbuthnot$girls), type = \"l\")"
   ]
  },
  {
   "cell_type": "markdown",
   "metadata": {},
   "source": [
    "### Question 5: What can we learn from the plot? "
   ]
  },
  {
   "cell_type": "markdown",
   "metadata": {},
   "source": [
    "### Answer: A direct reading of the graph indicates that the proportion of all children baptized in London during those years that were boys varied between about 50.5% and 53.5%.\n",
    "\n",
    "### This might strike you as a bit surprising. We did not observe one year in which more girls were baptized than boys. If one thought that births were roughly equally likely to be boys or girls, then one might expect that there would be years with more girls born than boys and more girls baptized than boys. Why was this not observed? Were births more likely to be boys than girls, such that there were always more boys born than girls and hence more boys baptized? Were births roughly equally likely to be boys or girls, but boys were more likely to be baptized? Are the other possible explanations?"
   ]
  },
  {
   "cell_type": "markdown",
   "metadata": {},
   "source": [
    "Finally, in addition to simple mathematical operators like subtraction and division, you can ask R to make comparisons like greater than, >, less than, <, and equality, ==. For example, we can ask if boys outnumber girls in each year with the expression"
   ]
  },
  {
   "cell_type": "code",
   "execution_count": 21,
   "metadata": {},
   "outputs": [
    {
     "data": {
      "text/html": [
       "<style>\n",
       ".list-inline {list-style: none; margin:0; padding: 0}\n",
       ".list-inline>li {display: inline-block}\n",
       ".list-inline>li:not(:last-child)::after {content: \"\\00b7\"; padding: 0 .5ex}\n",
       "</style>\n",
       "<ol class=list-inline><li>TRUE</li><li>TRUE</li><li>TRUE</li><li>TRUE</li><li>TRUE</li><li>TRUE</li><li>TRUE</li><li>TRUE</li><li>TRUE</li><li>TRUE</li><li>TRUE</li><li>TRUE</li><li>TRUE</li><li>TRUE</li><li>TRUE</li><li>TRUE</li><li>TRUE</li><li>TRUE</li><li>TRUE</li><li>TRUE</li><li>TRUE</li><li>TRUE</li><li>TRUE</li><li>TRUE</li><li>TRUE</li><li>TRUE</li><li>TRUE</li><li>TRUE</li><li>TRUE</li><li>TRUE</li><li>TRUE</li><li>TRUE</li><li>TRUE</li><li>TRUE</li><li>TRUE</li><li>TRUE</li><li>TRUE</li><li>TRUE</li><li>TRUE</li><li>TRUE</li><li>TRUE</li><li>TRUE</li><li>TRUE</li><li>TRUE</li><li>TRUE</li><li>TRUE</li><li>TRUE</li><li>TRUE</li><li>TRUE</li><li>TRUE</li><li>TRUE</li><li>TRUE</li><li>TRUE</li><li>TRUE</li><li>TRUE</li><li>TRUE</li><li>TRUE</li><li>TRUE</li><li>TRUE</li><li>TRUE</li><li>TRUE</li><li>TRUE</li><li>TRUE</li><li>TRUE</li><li>TRUE</li><li>TRUE</li><li>TRUE</li><li>TRUE</li><li>TRUE</li><li>TRUE</li><li>TRUE</li><li>TRUE</li><li>TRUE</li><li>TRUE</li><li>TRUE</li><li>TRUE</li><li>TRUE</li><li>TRUE</li><li>TRUE</li><li>TRUE</li><li>TRUE</li><li>TRUE</li></ol>\n"
      ],
      "text/latex": [
       "\\begin{enumerate*}\n",
       "\\item TRUE\n",
       "\\item TRUE\n",
       "\\item TRUE\n",
       "\\item TRUE\n",
       "\\item TRUE\n",
       "\\item TRUE\n",
       "\\item TRUE\n",
       "\\item TRUE\n",
       "\\item TRUE\n",
       "\\item TRUE\n",
       "\\item TRUE\n",
       "\\item TRUE\n",
       "\\item TRUE\n",
       "\\item TRUE\n",
       "\\item TRUE\n",
       "\\item TRUE\n",
       "\\item TRUE\n",
       "\\item TRUE\n",
       "\\item TRUE\n",
       "\\item TRUE\n",
       "\\item TRUE\n",
       "\\item TRUE\n",
       "\\item TRUE\n",
       "\\item TRUE\n",
       "\\item TRUE\n",
       "\\item TRUE\n",
       "\\item TRUE\n",
       "\\item TRUE\n",
       "\\item TRUE\n",
       "\\item TRUE\n",
       "\\item TRUE\n",
       "\\item TRUE\n",
       "\\item TRUE\n",
       "\\item TRUE\n",
       "\\item TRUE\n",
       "\\item TRUE\n",
       "\\item TRUE\n",
       "\\item TRUE\n",
       "\\item TRUE\n",
       "\\item TRUE\n",
       "\\item TRUE\n",
       "\\item TRUE\n",
       "\\item TRUE\n",
       "\\item TRUE\n",
       "\\item TRUE\n",
       "\\item TRUE\n",
       "\\item TRUE\n",
       "\\item TRUE\n",
       "\\item TRUE\n",
       "\\item TRUE\n",
       "\\item TRUE\n",
       "\\item TRUE\n",
       "\\item TRUE\n",
       "\\item TRUE\n",
       "\\item TRUE\n",
       "\\item TRUE\n",
       "\\item TRUE\n",
       "\\item TRUE\n",
       "\\item TRUE\n",
       "\\item TRUE\n",
       "\\item TRUE\n",
       "\\item TRUE\n",
       "\\item TRUE\n",
       "\\item TRUE\n",
       "\\item TRUE\n",
       "\\item TRUE\n",
       "\\item TRUE\n",
       "\\item TRUE\n",
       "\\item TRUE\n",
       "\\item TRUE\n",
       "\\item TRUE\n",
       "\\item TRUE\n",
       "\\item TRUE\n",
       "\\item TRUE\n",
       "\\item TRUE\n",
       "\\item TRUE\n",
       "\\item TRUE\n",
       "\\item TRUE\n",
       "\\item TRUE\n",
       "\\item TRUE\n",
       "\\item TRUE\n",
       "\\item TRUE\n",
       "\\end{enumerate*}\n"
      ],
      "text/markdown": [
       "1. TRUE\n",
       "2. TRUE\n",
       "3. TRUE\n",
       "4. TRUE\n",
       "5. TRUE\n",
       "6. TRUE\n",
       "7. TRUE\n",
       "8. TRUE\n",
       "9. TRUE\n",
       "10. TRUE\n",
       "11. TRUE\n",
       "12. TRUE\n",
       "13. TRUE\n",
       "14. TRUE\n",
       "15. TRUE\n",
       "16. TRUE\n",
       "17. TRUE\n",
       "18. TRUE\n",
       "19. TRUE\n",
       "20. TRUE\n",
       "21. TRUE\n",
       "22. TRUE\n",
       "23. TRUE\n",
       "24. TRUE\n",
       "25. TRUE\n",
       "26. TRUE\n",
       "27. TRUE\n",
       "28. TRUE\n",
       "29. TRUE\n",
       "30. TRUE\n",
       "31. TRUE\n",
       "32. TRUE\n",
       "33. TRUE\n",
       "34. TRUE\n",
       "35. TRUE\n",
       "36. TRUE\n",
       "37. TRUE\n",
       "38. TRUE\n",
       "39. TRUE\n",
       "40. TRUE\n",
       "41. TRUE\n",
       "42. TRUE\n",
       "43. TRUE\n",
       "44. TRUE\n",
       "45. TRUE\n",
       "46. TRUE\n",
       "47. TRUE\n",
       "48. TRUE\n",
       "49. TRUE\n",
       "50. TRUE\n",
       "51. TRUE\n",
       "52. TRUE\n",
       "53. TRUE\n",
       "54. TRUE\n",
       "55. TRUE\n",
       "56. TRUE\n",
       "57. TRUE\n",
       "58. TRUE\n",
       "59. TRUE\n",
       "60. TRUE\n",
       "61. TRUE\n",
       "62. TRUE\n",
       "63. TRUE\n",
       "64. TRUE\n",
       "65. TRUE\n",
       "66. TRUE\n",
       "67. TRUE\n",
       "68. TRUE\n",
       "69. TRUE\n",
       "70. TRUE\n",
       "71. TRUE\n",
       "72. TRUE\n",
       "73. TRUE\n",
       "74. TRUE\n",
       "75. TRUE\n",
       "76. TRUE\n",
       "77. TRUE\n",
       "78. TRUE\n",
       "79. TRUE\n",
       "80. TRUE\n",
       "81. TRUE\n",
       "82. TRUE\n",
       "\n",
       "\n"
      ],
      "text/plain": [
       " [1] TRUE TRUE TRUE TRUE TRUE TRUE TRUE TRUE TRUE TRUE TRUE TRUE TRUE TRUE TRUE\n",
       "[16] TRUE TRUE TRUE TRUE TRUE TRUE TRUE TRUE TRUE TRUE TRUE TRUE TRUE TRUE TRUE\n",
       "[31] TRUE TRUE TRUE TRUE TRUE TRUE TRUE TRUE TRUE TRUE TRUE TRUE TRUE TRUE TRUE\n",
       "[46] TRUE TRUE TRUE TRUE TRUE TRUE TRUE TRUE TRUE TRUE TRUE TRUE TRUE TRUE TRUE\n",
       "[61] TRUE TRUE TRUE TRUE TRUE TRUE TRUE TRUE TRUE TRUE TRUE TRUE TRUE TRUE TRUE\n",
       "[76] TRUE TRUE TRUE TRUE TRUE TRUE TRUE"
      ]
     },
     "metadata": {},
     "output_type": "display_data"
    }
   ],
   "source": [
    "arbuthnot$boys > arbuthnot$girls"
   ]
  },
  {
   "cell_type": "markdown",
   "metadata": {},
   "source": [
    "This command returns 82 values of either TRUE if that year had more boys than girls, or FALSE if that year did not (the answer may surprise you). This output shows a different kind of data than we have considered so far. In the `arbuthnot` data frame our values are numerical (the `year`, the number of `boys` and `girls`). Here, we’ve asked R to create logical data, data where the values are either TRUE or FALSE. In general, data analysis will involve many different kinds of data types, and one reason for using R is that it is able to represent and compute with many of them."
   ]
  },
  {
   "cell_type": "markdown",
   "metadata": {},
   "source": [
    "Let’s stop here. Select File > Save and Checkpoint to save your work. To exit the notebook, select File > Close and Halt. Once back at the jupyter main workspace select Logout."
   ]
  }
 ],
 "metadata": {
  "kernelspec": {
   "display_name": "R",
   "language": "R",
   "name": "ir"
  },
  "language_info": {
   "codemirror_mode": "r",
   "file_extension": ".r",
   "mimetype": "text/x-r-source",
   "name": "R",
   "pygments_lexer": "r",
   "version": "4.0.5"
  }
 },
 "nbformat": 4,
 "nbformat_minor": 2
}
